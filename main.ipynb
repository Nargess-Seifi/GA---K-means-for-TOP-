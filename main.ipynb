{
 "cells": [
  {
   "cell_type": "code",
   "execution_count": 23,
   "metadata": {},
   "outputs": [],
   "source": [
    "import random\n",
    "import pandas as pd"
   ]
  },
  {
   "cell_type": "code",
   "execution_count": 42,
   "metadata": {},
   "outputs": [
    {
     "name": "stdout",
     "output_type": "stream",
     "text": [
      "Child: ['A', 'B', 'D', 'E', 'C', 'F']\n"
     ]
    }
   ],
   "source": [
    "def vlox_crossover(parent1, parent2):\n",
    "    # Get lengths of the parents\n",
    "    size1, size2 = len(parent1), len(parent2)\n",
    "    \n",
    "    # Determine crossover points for both parents\n",
    "    p1_start, p1_end = sorted(random.sample(range(size1), 2))\n",
    "    p2_start, p2_end = sorted(random.sample(range(size2), 2))\n",
    "    \n",
    "    # Create the child initialized to None\n",
    "    child = [None] * max(size1, size2)\n",
    "    \n",
    "    # Copy the segment from the first parent to the child\n",
    "    child[:p1_end - p1_start] = parent1[p1_start:p1_end]\n",
    "    \n",
    "    # Add the segment from the second parent into the child, preserving order and avoiding duplicates\n",
    "    remaining_positions = [i for i, x in enumerate(child) if x is None]\n",
    "    segment2 = parent2[p2_start:p2_end]\n",
    "    remaining_segment2 = [x for x in segment2 if x not in child]\n",
    "    \n",
    "    for i, location in zip(remaining_positions, remaining_segment2):\n",
    "        child[i] = location\n",
    "    \n",
    "    # Fill the remaining positions with the rest of parent2, preserving order and avoiding duplicates\n",
    "    current_index = remaining_positions[len(remaining_segment2):]\n",
    "    for location in parent2:\n",
    "        if location not in child and current_index:\n",
    "            child[current_index.pop(0)] = location\n",
    "    \n",
    "    # Trim any None values for the final valid child tour\n",
    "    child = [location for location in child if location is not None]\n",
    "    \n",
    "    return child\n",
    "\n",
    "# Example usage\n",
    "parent1 = ['A', 'B', 'C', 'D', 'E']\n",
    "parent2 = ['B', 'D', 'A', 'E', 'C', 'F']\n",
    "\n",
    "child = vlox_crossover(parent1, parent2)\n",
    "print(\"Child:\", child)\n"
   ]
  },
  {
   "cell_type": "code",
   "execution_count": 43,
   "metadata": {},
   "outputs": [],
   "source": [
    "def swap_mutation(tour, mutation_rate=0.1):\n",
    "    if random.random() < mutation_rate:\n",
    "        idx1, idx2 = random.sample(range(len(tour)), 2)\n",
    "        tour[idx1], tour[idx2] = tour[idx2], tour[idx1]\n",
    "    return tour\n",
    "\n",
    "def insertion_mutation(tour, mutation_rate=0.1):\n",
    "    if random.random() < mutation_rate:\n",
    "        idx1, idx2 = random.sample(range(len(tour)), 2)\n",
    "        location = tour.pop(idx1)\n",
    "        # Ensure no duplicates and all locations are included\n",
    "        if location not in tour:\n",
    "            tour.insert(idx2, location)\n",
    "    return tour\n",
    "\n",
    "def scramble_mutation(tour, mutation_rate=0.1):\n",
    "    if random.random() < mutation_rate:\n",
    "        start, end = sorted(random.sample(range(len(tour)), 2))\n",
    "        sublist = tour[start:end]\n",
    "        random.shuffle(sublist)\n",
    "        tour[start:end] = sublist\n",
    "    return tour\n",
    "\n",
    "def inversion_mutation(tour, mutation_rate=0.1):\n",
    "    if random.random() < mutation_rate:\n",
    "        start, end = sorted(random.sample(range(len(tour)), 2))\n",
    "        tour[start:end] = reversed(tour[start:end])\n",
    "    return tour"
   ]
  }
 ],
 "metadata": {
  "kernelspec": {
   "display_name": "Python 3",
   "language": "python",
   "name": "python3"
  },
  "language_info": {
   "codemirror_mode": {
    "name": "ipython",
    "version": 3
   },
   "file_extension": ".py",
   "mimetype": "text/x-python",
   "name": "python",
   "nbconvert_exporter": "python",
   "pygments_lexer": "ipython3",
   "version": "3.10.12"
  }
 },
 "nbformat": 4,
 "nbformat_minor": 2
}
